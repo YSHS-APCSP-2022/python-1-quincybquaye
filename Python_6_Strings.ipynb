{
  "nbformat": 4,
  "nbformat_minor": 0,
  "metadata": {
    "colab": {
      "provenance": [],
      "include_colab_link": true
    },
    "kernelspec": {
      "name": "python3",
      "display_name": "Python 3"
    }
  },
  "cells": [
    {
      "cell_type": "markdown",
      "metadata": {
        "id": "view-in-github",
        "colab_type": "text"
      },
      "source": [
        "<a href=\"https://colab.research.google.com/github/YSHS-APCSP-2022/python-1-quincybquaye/blob/main/Python_6_Strings.ipynb\" target=\"_parent\"><img src=\"https://colab.research.google.com/assets/colab-badge.svg\" alt=\"Open In Colab\"/></a>"
      ]
    },
    {
      "cell_type": "markdown",
      "metadata": {
        "id": "a1jZnak0xLfT"
      },
      "source": [
        "# Strings an Introduction: Read\n",
        "Text– it's all around us. Books, web pages, email, text messages, papers for school. These are mostly text, and most of it has been digitized, represented with zeros and ones. Most programming languages have a data type called a string. A string takes care of the details for us, and we can just think of some text as a string of characters. One character might be a letter, number, or symbol, depending on the character set of the representation standard.\n",
        "\n"
      ]
    },
    {
      "cell_type": "markdown",
      "metadata": {
        "id": "-KzmPdYfxU3N"
      },
      "source": [
        "You can use the function type() to check the variable type of a variable or expression. Run the cells below to see how the type() function works. \n",
        "\n",
        "1. 'str' stands for string\n",
        "2. 'int' stands for integer\n",
        "3. 'float' stands for float\n",
        "4. 'bool' stands for Boolean (True or False)"
      ]
    },
    {
      "cell_type": "code",
      "metadata": {
        "id": "yuaCSxDVxh4a",
        "colab": {
          "base_uri": "https://localhost:8080/",
          "height": 34
        },
        "outputId": "a25c28ae-0250-41b7-b3da-0b3918f3a8ab"
      },
      "source": [
        "a = \"Dog\"\n",
        "type(a)"
      ],
      "execution_count": null,
      "outputs": [
        {
          "output_type": "execute_result",
          "data": {
            "text/plain": [
              "str"
            ]
          },
          "metadata": {
            "tags": []
          },
          "execution_count": 1
        }
      ]
    },
    {
      "cell_type": "code",
      "metadata": {
        "id": "toS0rN0kxph-",
        "colab": {
          "base_uri": "https://localhost:8080/",
          "height": 34
        },
        "outputId": "a633ce10-26cf-47a2-8c99-e80c927cebc4"
      },
      "source": [
        "b = 14\n",
        "type(b)"
      ],
      "execution_count": null,
      "outputs": [
        {
          "output_type": "execute_result",
          "data": {
            "text/plain": [
              "int"
            ]
          },
          "metadata": {
            "tags": []
          },
          "execution_count": 2
        }
      ]
    },
    {
      "cell_type": "markdown",
      "metadata": {
        "id": "OOV1YelAyA6Y"
      },
      "source": [
        "#Do\n",
        "Strings are iterables. Iterables are sequences that can be counted in order, one at a time, during iteration. Strings contain a sequence of characters, one after another. The elements — including the spaces — are indexed, starting at 0. \n",
        "\n",
        "Consider the string \"My school is the best\"\n",
        "\n",
        "| M| y| space  |s |c| h | o|o |... |t |\n",
        "| -----:|-----:| -----:|-----:|-----:|-----:|-----:|-----:|-----:|-----:|\n",
        "| 0| 1| 2|3|4|5|6|7|...|20|\n",
        "\n",
        "Try the code below, discuss the outputs with your partner.\n"
      ]
    },
    {
      "cell_type": "code",
      "metadata": {
        "id": "3VeQ_FwHyuge",
        "outputId": "13584f2e-a3a1-4082-f237-1ef2b395923c",
        "colab": {
          "base_uri": "https://localhost:8080/",
          "height": 35
        }
      },
      "source": [
        "slogan = 'My school is the best'\n",
        "slogan[0] "
      ],
      "execution_count": 2,
      "outputs": [
        {
          "output_type": "execute_result",
          "data": {
            "text/plain": [
              "'M'"
            ],
            "application/vnd.google.colaboratory.intrinsic+json": {
              "type": "string"
            }
          },
          "metadata": {},
          "execution_count": 2
        }
      ]
    },
    {
      "cell_type": "code",
      "metadata": {
        "id": "t8KqUf1JyWQS",
        "outputId": "21e3e8ac-5c33-47ac-918e-f4eadb12419a",
        "colab": {
          "base_uri": "https://localhost:8080/",
          "height": 166
        }
      },
      "source": [
        "slogan[26]"
      ],
      "execution_count": 4,
      "outputs": [
        {
          "output_type": "error",
          "ename": "IndexError",
          "evalue": "ignored",
          "traceback": [
            "\u001b[0;31m---------------------------------------------------------------------------\u001b[0m",
            "\u001b[0;31mIndexError\u001b[0m                                Traceback (most recent call last)",
            "\u001b[0;32m<ipython-input-4-e2d5dacaaa69>\u001b[0m in \u001b[0;36m<module>\u001b[0;34m\u001b[0m\n\u001b[0;32m----> 1\u001b[0;31m \u001b[0mslogan\u001b[0m\u001b[0;34m[\u001b[0m\u001b[0;36m26\u001b[0m\u001b[0;34m]\u001b[0m\u001b[0;34m\u001b[0m\u001b[0;34m\u001b[0m\u001b[0m\n\u001b[0m",
            "\u001b[0;31mIndexError\u001b[0m: string index out of range"
          ]
        }
      ]
    },
    {
      "cell_type": "code",
      "metadata": {
        "id": "LtM4W4CwyWQY",
        "outputId": "5a828496-d94e-419d-daea-587e1e90a569",
        "colab": {
          "base_uri": "https://localhost:8080/",
          "height": 35
        }
      },
      "source": [
        "slogan[-2]"
      ],
      "execution_count": 5,
      "outputs": [
        {
          "output_type": "execute_result",
          "data": {
            "text/plain": [
              "'s'"
            ],
            "application/vnd.google.colaboratory.intrinsic+json": {
              "type": "string"
            }
          },
          "metadata": {},
          "execution_count": 5
        }
      ]
    },
    {
      "cell_type": "code",
      "metadata": {
        "id": "vJmIqaSZyWQa",
        "outputId": "24f6c5a1-6352-4d61-fcdb-e4c41fc6d2e2",
        "colab": {
          "base_uri": "https://localhost:8080/",
          "height": 35
        }
      },
      "source": [
        "slogan[0:5]"
      ],
      "execution_count": 6,
      "outputs": [
        {
          "output_type": "execute_result",
          "data": {
            "text/plain": [
              "'My sc'"
            ],
            "application/vnd.google.colaboratory.intrinsic+json": {
              "type": "string"
            }
          },
          "metadata": {},
          "execution_count": 6
        }
      ]
    },
    {
      "cell_type": "code",
      "metadata": {
        "id": "fHBiysc9yWQd",
        "outputId": "ae870f81-2dcd-4307-a901-a6a57299cbcf",
        "colab": {
          "base_uri": "https://localhost:8080/",
          "height": 35
        }
      },
      "source": [
        "slogan[5:21]"
      ],
      "execution_count": 11,
      "outputs": [
        {
          "output_type": "execute_result",
          "data": {
            "text/plain": [
              "'hool is the best'"
            ],
            "application/vnd.google.colaboratory.intrinsic+json": {
              "type": "string"
            }
          },
          "metadata": {},
          "execution_count": 11
        }
      ]
    },
    {
      "cell_type": "code",
      "metadata": {
        "id": "YtUPKkHRyWQh",
        "outputId": "6fcb26ac-4607-4c4a-9a39-d0b50f5f571b",
        "colab": {
          "base_uri": "https://localhost:8080/",
          "height": 35
        }
      },
      "source": [
        "slogan[:5]"
      ],
      "execution_count": 8,
      "outputs": [
        {
          "output_type": "execute_result",
          "data": {
            "text/plain": [
              "'My sc'"
            ],
            "application/vnd.google.colaboratory.intrinsic+json": {
              "type": "string"
            }
          },
          "metadata": {},
          "execution_count": 8
        }
      ]
    },
    {
      "cell_type": "code",
      "metadata": {
        "id": "ichd8g5Pzy9a",
        "outputId": "c4a74b52-1d28-4790-99ff-6085b19bee55",
        "colab": {
          "base_uri": "https://localhost:8080/",
          "height": 35
        }
      },
      "source": [
        "slogan[0]"
      ],
      "execution_count": 12,
      "outputs": [
        {
          "output_type": "execute_result",
          "data": {
            "text/plain": [
              "'M'"
            ],
            "application/vnd.google.colaboratory.intrinsic+json": {
              "type": "string"
            }
          },
          "metadata": {},
          "execution_count": 12
        }
      ]
    },
    {
      "cell_type": "code",
      "metadata": {
        "id": "E-aQwgU9zvFH",
        "outputId": "d69bf107-3999-4749-f093-d7ad272c30e6",
        "colab": {
          "base_uri": "https://localhost:8080/",
          "height": 35
        }
      },
      "source": [
        "slogan[1:]"
      ],
      "execution_count": 13,
      "outputs": [
        {
          "output_type": "execute_result",
          "data": {
            "text/plain": [
              "'y school is the best'"
            ],
            "application/vnd.google.colaboratory.intrinsic+json": {
              "type": "string"
            }
          },
          "metadata": {},
          "execution_count": 13
        }
      ]
    },
    {
      "cell_type": "markdown",
      "metadata": {
        "collapsed": false,
        "id": "ZrjaF1BCyWQk"
      },
      "source": [
        "#Do\n",
        "In the cell below return 'best' by slicing the variable slogan, omitting the end index.\n"
      ]
    },
    {
      "cell_type": "code",
      "metadata": {
        "id": "YhmHrC2byWQl",
        "outputId": "cfb1485d-ec2e-4921-9bc9-619446eaa97b",
        "colab": {
          "base_uri": "https://localhost:8080/",
          "height": 35
        }
      },
      "source": [
        "# Slice slogan to return the word 'best' below\n",
        "slogan[17:21]"
      ],
      "execution_count": 15,
      "outputs": [
        {
          "output_type": "execute_result",
          "data": {
            "text/plain": [
              "'best'"
            ],
            "application/vnd.google.colaboratory.intrinsic+json": {
              "type": "string"
            }
          },
          "metadata": {},
          "execution_count": 15
        }
      ]
    },
    {
      "cell_type": "markdown",
      "metadata": {
        "id": "dbwOneriyWQn"
      },
      "source": [
        "#Do\n",
        "Use slicing and concatenation to create your own sentence. Concatenation involves pasting together two strings, one after another. Follow the example here.\n",
        "```python\n",
        "In []: slogan[:13] + 'awesome!'\n",
        "Out[]: 'My school is awesome!'\n",
        "```"
      ]
    },
    {
      "cell_type": "code",
      "metadata": {
        "id": "I6x5r6jmyWQo",
        "outputId": "f72c7ae5-b1ce-47fa-9bd8-213fa24a5832",
        "colab": {
          "base_uri": "https://localhost:8080/"
        }
      },
      "source": [
        "#Use slicing and concatenation to create your own sentence.\n",
        "print('quincy ' + slogan[10:21])"
      ],
      "execution_count": 16,
      "outputs": [
        {
          "output_type": "stream",
          "name": "stdout",
          "text": [
            "quincy is the best\n"
          ]
        }
      ]
    },
    {
      "cell_type": "markdown",
      "metadata": {
        "id": "_c37kbThyWQr"
      },
      "source": [
        "#Read\n",
        "The len() function returns the number of elements in an iterable. The index of the last element is always one less than the length of the iterable since the indices begin at 0.\n",
        "\n",
        "```python\n",
        "In []: len(slogan)\n",
        "Out[]: 21\n",
        "```"
      ]
    },
    {
      "cell_type": "code",
      "metadata": {
        "id": "_7n0PT8ByWQr",
        "colab": {
          "base_uri": "https://localhost:8080/",
          "height": 34
        },
        "outputId": "516ec95a-dab7-4a77-bc8f-abcc91f12f8e"
      },
      "source": [
        "activity = 'theater'\n",
        "len(activity)\n"
      ],
      "execution_count": null,
      "outputs": [
        {
          "output_type": "execute_result",
          "data": {
            "text/plain": [
              "7"
            ]
          },
          "metadata": {
            "tags": []
          },
          "execution_count": 18
        }
      ]
    },
    {
      "cell_type": "code",
      "metadata": {
        "id": "w9xdyH2GyWQt",
        "colab": {
          "base_uri": "https://localhost:8080/",
          "height": 34
        },
        "outputId": "18ede99b-76c9-42ce-f651-0cd456476d32"
      },
      "source": [
        "activity[0 : len(activity)-1]\n"
      ],
      "execution_count": null,
      "outputs": [
        {
          "output_type": "execute_result",
          "data": {
            "text/plain": [
              "'theate'"
            ]
          },
          "metadata": {
            "tags": []
          },
          "execution_count": 7
        }
      ]
    },
    {
      "cell_type": "markdown",
      "metadata": {
        "id": "pXdyjhjR0EC3"
      },
      "source": [
        "#Pig Latin Function: Do\n",
        "\n",
        "English: Hello David \n",
        "\n",
        "Pig Latin: Hello Avidday!\n",
        "\n",
        "Your goal is to make a Pig Latin function that will take 1 input, name, and then say hello to them in Pig Latin. Some hints.\n",
        "\n",
        "1. Define the function PigLatin with input name\n",
        "2. Slice the string name to get the first letter of name (look at how we sliced slogan in the previous example) --> Save this to a variable. For the name David it would be 'D'.\n",
        "3. Slice the string name to get all of the rest of the name except for the first letter (again see how we sliced slogan in the previous example). For the Name David it would be 'avid'.\n",
        "4. Combine the rest of the name, 'avid', with the first letter 'D' and 'ay' to PigLatinify the name. \n",
        "5. Print Hello + PigLatin Name !\n",
        "\n",
        "So when you call the function PigLatin(\"David\") would output \"Hello avidDay!\"\n"
      ]
    },
    {
      "cell_type": "code",
      "metadata": {
        "id": "prVqn_j42Kdp"
      },
      "source": [
        "#Insert PigLatin Function Here\n",
        "def pigLatin(name):\n",
        "  latin1 = name[0]\n",
        "  latin2 = name[1:] + latin1 + 'ay'\n",
        "  print(\"Hello \" + latin2 + \"!\")"
      ],
      "execution_count": 16,
      "outputs": []
    },
    {
      "cell_type": "code",
      "source": [
        "pigLatin('David')"
      ],
      "metadata": {
        "id": "WQIEAn0p00AX",
        "outputId": "81801a37-e911-4adf-e415-feda5c037566",
        "colab": {
          "base_uri": "https://localhost:8080/"
        }
      },
      "execution_count": 19,
      "outputs": [
        {
          "output_type": "stream",
          "name": "stdout",
          "text": [
            "Hello avidDay!\n"
          ]
        }
      ]
    }
  ]
}